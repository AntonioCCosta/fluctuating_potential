{
 "cells": [
  {
   "cell_type": "code",
   "execution_count": 1,
   "metadata": {},
   "outputs": [],
   "source": [
    "#data format library\n",
    "import h5py\n",
    "#numpy\n",
    "import numpy as np\n",
    "import numpy.ma as ma\n",
    "import matplotlib.pyplot as plt\n",
    "import sys\n",
    "sys.path.append('/home/a/antonio-costa/BehaviorModel/utils')\n",
    "import operator_calculations as op_calc\n",
    "import worm_dynamics as worm_dyn\n",
    "import stats\n",
    "import h5py\n",
    "import delay_embedding as embed\n",
    "import operator_calculations as op_calc\n",
    "import clustering_methods as cl"
   ]
  },
  {
   "cell_type": "code",
   "execution_count": 2,
   "metadata": {},
   "outputs": [
    {
     "name": "stdout",
     "output_type": "stream",
     "text": [
      "['new_frameRate', 'npr-1 (ad609) on food R_2010_01_26__12_44_18___2___7', 'npr-1 (ad609)X on food  R_2010_01_25__16_08___3___10', 'npr-1 (ad609)X on food L_2010_01_22__11_33_10___2___5', 'npr-1 (ad609)X on food L_2010_01_26__12_44___3___7', 'npr-1 (ad609)X on food R_2010_01_22__11_34_25___8___5', 'npr-1 (ad609)X on food R_2010_01_22__11_35_12__5', 'npr-1 (ad609)X on food R_2010_01_26__12_44_50___4___7']\n"
     ]
    }
   ],
   "source": [
    "f = h5py.File('/bucket/StephensU/antonio/npr-1_data/resampled_results.h5','r')\n",
    "print(list(f.keys()))\n",
    "frameRate = np.array(f['new_frameRate'])[0]\n",
    "worm_labels = list(f.keys())[1:]\n",
    "tseries_w=[]\n",
    "for worm in worm_labels:\n",
    "    ts = ma.masked_invalid(np.array(f[worm]))\n",
    "    tseries_w.append(ts)\n",
    "f.close()\n",
    "\n",
    "\n",
    "masked_ts_w = []\n",
    "for worm in np.arange(len(tseries_w)):\n",
    "    ts_w = tseries_w[worm]\n",
    "    ts_w[0] = ma.masked\n",
    "    ts_w[-1] = ma.masked\n",
    "    masked_ts_w.append(ts_w)\n",
    "\n",
    "segments=op_calc.segment_maskedArray(ma.vstack(masked_ts_w),5)\n",
    "omegas_all=ma.zeros(ma.vstack(masked_ts_w).shape[0])\n",
    "a3s_all=ma.zeros(ma.vstack(masked_ts_w).shape[0])\n",
    "for t0,tf in segments:\n",
    "    phi,omega,a3=worm_dyn.compute_phi_omega_a3(ma.vstack(masked_ts_w),t0,tf,frameRate=frameRate)\n",
    "    omegas_all[t0:tf] = omega\n",
    "    a3s_all[t0:tf] = a3\n",
    "omegas_all[omegas_all==0]=ma.masked\n",
    "a3s_all[a3s_all==0]=ma.masked\n",
    "\n",
    "eigenworms_matrix = np.loadtxt('/bucket/StephensU/antonio/ForagingN2_data/EigenWorms.csv', delimiter=',').astype(np.float32)\n",
    "thetas_w = ma.array([ts.dot(eigenworms_matrix[:,:5].T) for ts in masked_ts_w])\n",
    "thetas_all = ma.vstack(thetas_w)\n",
    "thetas_sum = thetas_all.sum(axis=1)"
   ]
  },
  {
   "cell_type": "code",
   "execution_count": 4,
   "metadata": {},
   "outputs": [
    {
     "data": {
      "text/plain": [
       "7"
      ]
     },
     "execution_count": 4,
     "metadata": {},
     "output_type": "execute_result"
    }
   ],
   "source": [
    "len(tseries_w)"
   ]
  },
  {
   "cell_type": "code",
   "execution_count": null,
   "metadata": {},
   "outputs": [],
   "source": []
  },
  {
   "cell_type": "code",
   "execution_count": 4,
   "metadata": {},
   "outputs": [
    {
     "name": "stdout",
     "output_type": "stream",
     "text": [
      "0.7000000000000001 0.6875\n"
     ]
    }
   ],
   "source": [
    "dt= 1/frameRate\n",
    "K_star=14\n",
    "print(K_star*dt,11/16.)\n",
    "traj_matrix = embed.trajectory_matrix(ma.vstack(tseries_w),K = K_star-1)"
   ]
  },
  {
   "cell_type": "code",
   "execution_count": 16,
   "metadata": {},
   "outputs": [],
   "source": [
    "def get_labels_w(labels,tseries_w):\n",
    "    labels_w = []\n",
    "    t0=0\n",
    "    for kw in range(n_worms):\n",
    "        labels_w.append(labels[t0:t0+len(tseries_w[kw])])\n",
    "        t0+=len(tseries_w[kw])\n",
    "    return labels_w"
   ]
  },
  {
   "cell_type": "code",
   "execution_count": 21,
   "metadata": {},
   "outputs": [],
   "source": [
    "cluster_range = np.array(np.logspace(1,3.5,11),dtype=int)"
   ]
  },
  {
   "cell_type": "code",
   "execution_count": 22,
   "metadata": {},
   "outputs": [
    {
     "name": "stdout",
     "output_type": "stream",
     "text": [
      "10\n",
      "17\n",
      "31\n",
      "56\n",
      "100\n",
      "177\n",
      "316\n",
      "562\n",
      "1000\n",
      "1778\n",
      "3162\n"
     ]
    }
   ],
   "source": [
    "n_worms = len(tseries_w)\n",
    "h_N = np.zeros((n_worms,len(cluster_range)))\n",
    "for kn,N in enumerate(cluster_range):\n",
    "    labels_w = get_labels_w(cl.kmeans_knn_partition(traj_matrix,n_seeds=N),tseries_w)\n",
    "    for kw in range(len(labels_w)):\n",
    "        h_N[kw,kn] = op_calc.get_entropy(labels_w[kw])\n",
    "    print(N)"
   ]
  },
  {
   "cell_type": "code",
   "execution_count": 23,
   "metadata": {},
   "outputs": [
    {
     "data": {
      "text/plain": [
       "array([[0.44883602, 0.6190948 , 0.72032507, 0.89727123, 1.01322124,\n",
       "        1.15208566, 1.24425947, 1.33475704, 1.38648979, 1.3646666 ,\n",
       "        1.30387979],\n",
       "       [0.45358983, 0.63319864, 0.76187282, 0.93814484, 1.07415017,\n",
       "        1.19663933, 1.30019923, 1.37761167, 1.44171555, 1.44061463,\n",
       "        1.37356392],\n",
       "       [0.46783913, 0.63220059, 0.76308351, 0.9278273 , 1.05605654,\n",
       "        1.17460876, 1.26479286, 1.34723227, 1.38874352, 1.36035776,\n",
       "        1.2900546 ],\n",
       "       [0.4759829 , 0.64130402, 0.75557312, 0.93336967, 1.06321577,\n",
       "        1.19483651, 1.27658971, 1.36496685, 1.40178191, 1.37467233,\n",
       "        1.30373838],\n",
       "       [0.45469786, 0.60789627, 0.73955447, 0.89488837, 1.01474566,\n",
       "        1.13459539, 1.22374826, 1.29053049, 1.32707549, 1.29030155,\n",
       "        1.19217071],\n",
       "       [0.46389678, 0.61616739, 0.72714324, 0.8982547 , 1.02575183,\n",
       "        1.16075899, 1.24562563, 1.34158355, 1.38195686, 1.36998417,\n",
       "        1.27148678],\n",
       "       [0.48290609, 0.6635856 , 0.79649752, 0.98431392, 1.12059022,\n",
       "        1.24458313, 1.3468133 , 1.41818588, 1.47201008, 1.43477555,\n",
       "        1.3583149 ]])"
      ]
     },
     "execution_count": 23,
     "metadata": {},
     "output_type": "execute_result"
    }
   ],
   "source": [
    "h_N"
   ]
  },
  {
   "cell_type": "code",
   "execution_count": 24,
   "metadata": {},
   "outputs": [
    {
     "data": {
      "image/png": "[encoded data removed]",
      "text/plain": [
       "<Figure size 432x288 with 1 Axes>"
      ]
     },
     "metadata": {
      "needs_background": "light"
     },
     "output_type": "display_data"
    }
   ],
   "source": [
    "mean,cil,ciu = stats.bootstrap(h_N,n_times=100)\n",
    "plt.plot(cluster_range,mean,marker='o')\n",
    "plt.fill_between(cluster_range,cil,ciu,alpha=.5)\n",
    "plt.show()"
   ]
  },
  {
   "cell_type": "code",
   "execution_count": null,
   "metadata": {},
   "outputs": [
    {
     "name": "stdout",
     "output_type": "stream",
     "text": [
      "1 10\n",
      "1 17\n",
      "1 31\n",
      "1 56\n",
      "1 100\n",
      "1 177\n",
      "1 316\n",
      "1 562\n",
      "1 1000\n",
      "1 1778\n",
      "1 3162\n",
      "2 10\n",
      "2 17\n",
      "2 31\n",
      "2 56\n",
      "2 100\n",
      "2 177\n",
      "2 316\n",
      "2 562\n",
      "2 1000\n",
      "2 1778\n",
      "2 3162\n",
      "3 10\n",
      "3 17\n",
      "3 31\n",
      "3 56\n",
      "3 100\n",
      "3 177\n",
      "3 316\n",
      "3 562\n",
      "3 1000\n",
      "3 1778\n",
      "3 3162\n",
      "4 10\n",
      "4 17\n",
      "4 31\n",
      "4 56\n",
      "4 100\n",
      "4 177\n",
      "4 316\n",
      "4 562\n",
      "4 1000\n",
      "4 1778\n",
      "4 3162\n",
      "5 10\n",
      "5 17\n",
      "5 31\n",
      "5 56\n",
      "5 100\n",
      "5 177\n",
      "5 316\n",
      "5 562\n",
      "5 1000\n"
     ]
    }
   ],
   "source": [
    "n_worms = len(tseries_w)\n",
    "K_range = np.arange(1,20)\n",
    "h_K_N = np.zeros((n_worms,len(K_range),len(cluster_range)))\n",
    "for k,K in enumerate(K_range):\n",
    "    traj_matrix = embed.trajectory_matrix(ma.vstack(tseries_w),K = K-1)\n",
    "    for kn,N in enumerate(cluster_range):\n",
    "        labels_w = get_labels_w(cl.kmeans_knn_partition(traj_matrix,n_seeds=N),tseries_w)\n",
    "        for kw in range(len(labels_w)):\n",
    "            h_K_N[kw,k,kn] = op_calc.get_entropy(labels_w[kw])\n",
    "        print(K,N)"
   ]
  },
  {
   "cell_type": "code",
   "execution_count": null,
   "metadata": {},
   "outputs": [],
   "source": []
  },
  {
   "cell_type": "code",
   "execution_count": null,
   "metadata": {},
   "outputs": [],
   "source": []
  }
 ],
 "metadata": {
  "kernelspec": {
   "display_name": "Python 3",
   "language": "python",
   "name": "python3"
  }
 },
 "nbformat": 4,
 "nbformat_minor": 4
}
