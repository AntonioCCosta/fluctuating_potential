{
 "cells": [
  {
   "cell_type": "code",
   "execution_count": 1,
   "metadata": {},
   "outputs": [],
   "source": [
    "#data format library\n",
    "import h5py\n",
    "#numpy\n",
    "import numpy as np\n",
    "import numpy.ma as ma\n",
    "import matplotlib.pyplot as plt\n",
    "import sys\n",
    "sys.path.append('/home/a/antonio-costa/BehaviorModel/utils')\n",
    "import operator_calculations as op_calc\n",
    "import worm_dynamics as worm_dyn\n",
    "import stats\n",
    "import h5py\n",
    "import delay_embedding as embed\n",
    "import operator_calculations as op_calc\n",
    "import clustering_methods as cl"
   ]
  },
  {
   "cell_type": "code",
   "execution_count": 2,
   "metadata": {},
   "outputs": [
    {
     "name": "stdout",
     "output_type": "stream",
     "text": [
      "['new_frameRate', 'npr-1 (ad609) on food R_2010_01_26__12_44_18___2___7', 'npr-1 (ad609)X on food  R_2010_01_25__16_08___3___10', 'npr-1 (ad609)X on food L_2010_01_22__11_33_10___2___5', 'npr-1 (ad609)X on food L_2010_01_26__12_44___3___7', 'npr-1 (ad609)X on food R_2010_01_22__11_34_25___8___5', 'npr-1 (ad609)X on food R_2010_01_22__11_35_12__5', 'npr-1 (ad609)X on food R_2010_01_26__12_44_50___4___7']\n"
     ]
    }
   ],
   "source": [
    "f = h5py.File('/bucket/StephensU/antonio/npr-1_data/resampled_results.h5','r')\n",
    "print(list(f.keys()))\n",
    "frameRate = np.array(f['new_frameRate'])[0]\n",
    "dt= 1./frameRate\n",
    "worm_labels = list(f.keys())[1:]\n",
    "tseries_w=[]\n",
    "for worm in worm_labels:\n",
    "    ts = ma.masked_invalid(np.array(f[worm]))\n",
    "    tseries_w.append(ts)\n",
    "f.close()\n",
    "\n",
    "\n",
    "masked_ts_w = []\n",
    "for worm in np.arange(len(tseries_w)):\n",
    "    ts_w = tseries_w[worm]\n",
    "    ts_w[0] = ma.masked\n",
    "    ts_w[-1] = ma.masked\n",
    "    masked_ts_w.append(ts_w)\n",
    "\n",
    "segments=op_calc.segment_maskedArray(ma.vstack(masked_ts_w),5)\n",
    "omegas_all=ma.zeros(ma.vstack(masked_ts_w).shape[0])\n",
    "a3s_all=ma.zeros(ma.vstack(masked_ts_w).shape[0])\n",
    "for t0,tf in segments:\n",
    "    phi,omega,a3=worm_dyn.compute_phi_omega_a3(ma.vstack(masked_ts_w),t0,tf,frameRate=frameRate)\n",
    "    omegas_all[t0:tf] = omega\n",
    "    a3s_all[t0:tf] = a3\n",
    "omegas_all[omegas_all==0]=ma.masked\n",
    "a3s_all[a3s_all==0]=ma.masked\n",
    "\n",
    "eigenworms_matrix = np.loadtxt('/bucket/StephensU/antonio/ForagingN2_data/EigenWorms.csv', delimiter=',').astype(np.float32)\n",
    "thetas_w = ma.array([ts.dot(eigenworms_matrix[:,:5].T) for ts in masked_ts_w])\n",
    "thetas_all = ma.vstack(thetas_w)\n",
    "thetas_sum = thetas_all.sum(axis=1)"
   ]
  },
  {
   "cell_type": "code",
   "execution_count": 6,
   "metadata": {},
   "outputs": [],
   "source": [
    "n_clusters=562\n",
    "f = h5py.File('/flash/StephensU/antonio/BehaviorModel/npr-1/labels_K_8_N_562.h5','r')\n",
    "labels_traj = ma.array(f['labels_traj'],dtype=int)\n",
    "mask_traj = np.array(f['mask_traj'],dtype=bool)\n",
    "f.close()\n",
    "\n",
    "labels_traj[mask_traj] = ma.masked\n",
    "\n",
    "delay=10\n",
    "ctraj_path = '/flash/StephensU/antonio/BehaviorModel/npr-1/ctrajs_562_clusters_delay_{}/'.format(delay)\n",
    "f = h5py.File(ctraj_path+'/c_traj.h5','r')\n",
    "mD = f['MetaData']\n",
    "n_clusters = np.array(mD['n_clusters'],dtype=int)[0]\n",
    "delay = np.array(mD['delay'],dtype=int)[0]\n",
    "ctraj = ma.array(f['ctraj'])\n",
    "mask = ma.array(f['ctraj_mask'])\n",
    "ctraj[mask==1] = ma.masked\n",
    "kmeans_labels = np.array(f['kmeans_labels'])\n",
    "final_labels = ma.array(f['final_labels'],dtype=int)\n",
    "final_labels[labels_traj.mask] = ma.masked\n",
    "f.close()"
   ]
  },
  {
   "cell_type": "code",
   "execution_count": 7,
   "metadata": {},
   "outputs": [],
   "source": [
    "n_worms = len(tseries_w)\n",
    "cluster_traj = ma.copy(final_labels)\n",
    "cluster_traj[~final_labels.mask] = ma.array(kmeans_labels)[final_labels[~final_labels.mask]]\n",
    "cluster_traj[final_labels.mask] = ma.masked\n",
    "cluster_traj_w = []\n",
    "ctraj_w = []\n",
    "t0 = 0\n",
    "for kw in range(n_worms):\n",
    "    cluster_traj_w.append(cluster_traj[t0:t0+len(tseries_w[kw])])\n",
    "    ctraj_w.append(ctraj[t0:t0+len(tseries_w[kw])])\n",
    "    t0+=len(tseries_w[kw])"
   ]
  },
  {
   "cell_type": "code",
   "execution_count": 8,
   "metadata": {},
   "outputs": [],
   "source": [
    "def state_lifetime(states):\n",
    "    durations=[]\n",
    "    for state in np.sort(np.unique(states.compressed())):\n",
    "        gaps = states==state\n",
    "        gaps_boundaries = np.where(np.abs(np.diff(np.concatenate([[False], gaps, [False]]))))[0].reshape(-1, 2)\n",
    "        durations.append(np.hstack(np.diff(gaps_boundaries)))\n",
    "    return durations"
   ]
  },
  {
   "cell_type": "code",
   "execution_count": 15,
   "metadata": {},
   "outputs": [],
   "source": [
    "f = h5py.File('/flash/StephensU/antonio/npr-1/sims/symbol_sequence_simulations_1000_clusters.h5','r')\n",
    "sims_w=[]\n",
    "for worm in worm_labels:\n",
    "    sims = np.array(f[worm]['sims'],dtype=int)\n",
    "    sims_w.append(sims)\n",
    "f.close()"
   ]
  },
  {
   "cell_type": "code",
   "execution_count": 36,
   "metadata": {},
   "outputs": [],
   "source": [
    "# stride = delay\n",
    "step = int(delay)\n",
    "dts_w=[]\n",
    "for kw,X in enumerate(ctraj_w):\n",
    "    labels = ma.zeros(X.shape,dtype=int)\n",
    "    labels[X>0] = 1\n",
    "    labels[X.mask] = ma.masked\n",
    "    dts = np.array(state_lifetime(labels[::step]))*step*dt\n",
    "    dts_w.append(np.hstack(dts))"
   ]
  },
  {
   "cell_type": "code",
   "execution_count": 29,
   "metadata": {},
   "outputs": [],
   "source": [
    "kw=0\n",
    "dts_sims_w = []\n",
    "for kw in range(n_worms):\n",
    "    sims = sims_w[kw]\n",
    "    dts_sims=[]\n",
    "    for sim in sims:\n",
    "        labels_sim = ma.array(kmeans_labels[sim],dtype=int)\n",
    "        dts_sim = np.array(state_lifetime(labels_sim))*delay*dt\n",
    "        dts_sims.append(np.hstack(dts_sim))\n",
    "    dts_sims_w.append(np.hstack(dts_sims))"
   ]
  },
  {
   "cell_type": "code",
   "execution_count": 28,
   "metadata": {},
   "outputs": [],
   "source": [
    "def get_errorbar_dist(lifetimes_w,t0,tf):\n",
    "    all_lt = np.hstack(lifetimes_w)\n",
    "    x,y = stats.complementary_cumulative_dist(all_lt,(t0,tf))\n",
    "    y_all = np.array([np.mean(y[x==x_unique]) for x_unique in np.unique(x)])\n",
    "    x_all = np.sort(np.unique(x))\n",
    "    \n",
    "    dict_y = {}\n",
    "    for x_ in x_all:\n",
    "        dict_y[x_] = []\n",
    "\n",
    "    for k in range(100):\n",
    "        x,y = stats.cumulative_dist(np.hstack(np.random.choice(lifetimes_w,len(lifetimes_w))),(t0,tf))\n",
    "        y = 1-np.array([np.mean(y[x==x_unique]) for x_unique in np.unique(x)])\n",
    "        x = np.sort(np.unique(x))\n",
    "        for kx in range(len(y)):\n",
    "            dict_y[x[kx]].append(y[kx])\n",
    "        if k%10==0:\n",
    "            print(k)\n",
    "            \n",
    "    y_errorbars = np.zeros((len(dict_y.keys()),3))\n",
    "    for kx,x_ in enumerate(x_all):\n",
    "        values = np.array(dict_y[x_])\n",
    "        values = values[values>0]\n",
    "        cil = np.percentile(values,2.5)\n",
    "        ciu = np.percentile(values,97.5)\n",
    "        y_errorbars[kx] = [y_all[kx],cil,ciu]\n",
    "    return x_all,y_errorbars"
   ]
  },
  {
   "cell_type": "code",
   "execution_count": 30,
   "metadata": {},
   "outputs": [
    {
     "name": "stdout",
     "output_type": "stream",
     "text": [
      "0\n",
      "10\n",
      "20\n",
      "30\n",
      "40\n",
      "50\n",
      "60\n",
      "70\n",
      "80\n",
      "90\n"
     ]
    }
   ],
   "source": [
    "x_sim,y_err_sim = get_errorbar_dist(dts_sims_w,0,5000)"
   ]
  },
  {
   "cell_type": "code",
   "execution_count": 38,
   "metadata": {},
   "outputs": [
    {
     "name": "stdout",
     "output_type": "stream",
     "text": [
      "0\n",
      "10\n",
      "20\n",
      "30\n",
      "40\n",
      "50\n",
      "60\n",
      "70\n",
      "80\n",
      "90\n"
     ]
    }
   ],
   "source": [
    "x_data,y_err_data = get_errorbar_dist(dts_w,0,5000)"
   ]
  },
  {
   "cell_type": "code",
   "execution_count": 39,
   "metadata": {},
   "outputs": [],
   "source": [
    "colors_state_=plt.rcParams['axes.prop_cycle'].by_key()['color'][:10]"
   ]
  },
  {
   "cell_type": "code",
   "execution_count": 40,
   "metadata": {},
   "outputs": [
    {
     "data": {
      "image/png": "[encoded data removed]",
      "text/plain": [
       "<Figure size 360x360 with 1 Axes>"
      ]
     },
     "metadata": {
      "needs_background": "light"
     },
     "output_type": "display_data"
    }
   ],
   "source": [
    "plt.figure(figsize=(5,5))\n",
    "plt.errorbar(x_data[:-1],y_err_data[:-1,0],yerr = [y_err_data[:-1,0]-y_err_data[:-1,1],y_err_data[:-1,2]-y_err_data[:-1,0]],c='k',marker='o',fmt='o',capsize=4,label='data')\n",
    "plt.plot(x_sim[:-1],y_err_sim[:-1,0],c=colors_state_[0],lw=3,label='V(x)')\n",
    "plt.fill_between(x_sim[:-1],y_err_sim[:-1,1],y_err_sim[:-1,2],alpha=.5,color=colors_state_[0])\n",
    "plt.legend()\n",
    "plt.xlim(0,60)\n",
    "plt.ylim(4e-4,1)\n",
    "# trange = np.linspace(0,400)\n",
    "# plt.plot(trange,5e-2*np.exp(-trange/50),c='k')\n",
    "# plt.xscale('log')\n",
    "plt.yscale('log')\n",
    "# plt.savefig('fpt_V(x,t)_fish.pdf')\n",
    "plt.show()"
   ]
  }
 ],
 "metadata": {
  "kernelspec": {
   "display_name": "Python 3",
   "language": "python",
   "name": "python3"
  },
  "language_info": {
   "codemirror_mode": {
    "name": "ipython",
    "version": 3
   },
   "file_extension": ".py",
   "mimetype": "text/x-python",
   "name": "python",
   "nbconvert_exporter": "python",
   "pygments_lexer": "ipython3",
   "version": "3.7.3"
  }
 },
 "nbformat": 4,
 "nbformat_minor": 4
}
