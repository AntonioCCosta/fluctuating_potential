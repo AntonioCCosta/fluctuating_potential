{
 "cells": [
  {
   "cell_type": "code",
   "execution_count": 1,
   "metadata": {},
   "outputs": [],
   "source": [
    "import numpy as np\n",
    "from numba import jit\n",
    "import matplotlib.pyplot as plt\n",
    "import h5py "
   ]
  },
  {
   "cell_type": "code",
   "execution_count": 5,
   "metadata": {},
   "outputs": [
    {
     "name": "stdout",
     "output_type": "stream",
     "text": [
      "<KeysViewHDF5 ['Tx', 'h', 't0', 'tf']>\n"
     ]
    }
   ],
   "source": [
    "f = h5py.File('../data/asymptotics/asymptotic_integral/metadata.h5','r')\n",
    "t0 = np.array(f['t0'])[0]\n",
    "tf = np.array(f['tf'])[0]\n",
    "h = np.array(f['h'])[0]\n",
    "Tx = np.array(f['Tx'])[0]\n",
    "print(f.keys())\n",
    "f.close()"
   ]
  },
  {
   "cell_type": "code",
   "execution_count": 6,
   "metadata": {},
   "outputs": [
    {
     "name": "stdout",
     "output_type": "stream",
     "text": [
      "2 2\n",
      "2 3\n",
      "2 4\n",
      "3 2\n",
      "3 3\n",
      "3 4\n",
      "4 2\n",
      "4 3\n",
      "4 4\n"
     ]
    }
   ],
   "source": [
    "k_range = np.arange(2,5)\n",
    "n_range = np.arange(2,5)\n",
    "Ts_range = np.arange(.025,0.21,.025)\n",
    "\n",
    "trange = np.logspace(np.log10(t0),np.log10(tf),30)\n",
    "integrals = np.zeros((len(k_range),len(n_range),len(Ts_range),30))\n",
    "idx=0\n",
    "for kk,k in enumerate(k_range):\n",
    "    for kn,n in enumerate(n_range):\n",
    "        for kTs,Ts in enumerate(Ts_range):\n",
    "            f = h5py.File('../data/asymptotics/asymptotic_integral/integral_{}.h5'.format(idx),'r')\n",
    "            integrals[kk,kn,kTs] = np.array(f['integral'])\n",
    "            f.close()\n",
    "            idx+=1\n",
    "        print(k,n)"
   ]
  },
  {
   "cell_type": "code",
   "execution_count": 7,
   "metadata": {},
   "outputs": [],
   "source": [
    "plt.rcParams.update({\n",
    "    \"text.usetex\": True,\n",
    "    \"font.family\": \"Helvetica\"\n",
    "})"
   ]
  },
  {
   "cell_type": "code",
   "execution_count": 8,
   "metadata": {},
   "outputs": [],
   "source": [
    "from sklearn.linear_model import LinearRegression"
   ]
  },
  {
   "cell_type": "code",
   "execution_count": null,
   "metadata": {},
   "outputs": [],
   "source": [
    "kk=0\n",
    "kn=0\n",
    "k = k_range[kk]\n",
    "n = n_range[kn]\n",
    "kTs=7\n",
    "Ts= Ts_range[kTs]\n",
    "\n",
    "X = np.log10(trange**(-2)*np.exp(-(Tx*np.log(trange))**(n/k)/(Ts)))\n",
    "y = np.log10(integrals[kk,kn,kTs])\n",
    "\n",
    "reg = LinearRegression().fit(X.reshape(-1,1), y)\n",
    "R2_without = reg.score(X.reshape(-1,1), y)\n",
    "\n",
    "print(R2_without)\n",
    "m=reg.coef_[0]\n",
    "b = reg.intercept_\n",
    "print(reg.coef_,reg.intercept_)\n",
    "\n",
    "\n",
    "plt.figure(figsize=(15.,5))\n",
    "plt.subplot(1,3,1)\n",
    "plt.title('k = {}, n = {}'.format(k,n))\n",
    "xrange = np.linspace(X.min()*1.05,X.max()*.5,10)\n",
    "plt.plot(xrange,m*xrange+b,c='k',ls='--',lw=2)\n",
    "plt.scatter(X,y,s=50)\n",
    "# plt.axis('equal')\n",
    "plt.xticks(fontsize=12)\n",
    "plt.yticks(fontsize=12)\n",
    "plt.xlabel(r'$\\log[t^{-2} \\exp[-(T_{x} \\log(t))^{n/k}/(T_s)]]$',fontsize=14)\n",
    "plt.ylabel(r'$\\log[f(t)]$',fontsize=14)\n",
    "# plt.tight_layout()\n",
    "\n",
    "kk=2\n",
    "kn=0\n",
    "k = k_range[kk]\n",
    "n = n_range[kn]\n",
    "\n",
    "X = np.log10(trange**(-2)*np.exp(-(Tx*np.log(trange))**(n/k)/(Ts)))\n",
    "y = np.log10(integrals[kk,kn,kTs])\n",
    "\n",
    "\n",
    "reg = LinearRegression().fit(X.reshape(-1,1), y)\n",
    "R2_without = reg.score(X.reshape(-1,1), y)\n",
    "\n",
    "print(R2_without)\n",
    "m=reg.coef_[0]\n",
    "b = reg.intercept_\n",
    "print(reg.coef_,reg.intercept_)\n",
    "\n",
    "\n",
    "plt.subplot(1,3,2)\n",
    "plt.title('k = {}, n = {}'.format(k,n))\n",
    "xrange = np.linspace(X.min()*1.05,X.max()*.5,10)\n",
    "plt.plot(xrange,m*xrange+b,c='k',ls='--',lw=2)\n",
    "plt.scatter(X,y,s=50)\n",
    "# plt.axis('equal')\n",
    "plt.xticks(fontsize=12)\n",
    "plt.yticks(fontsize=12)\n",
    "plt.xlabel(r'$\\log[t^{-2} \\exp[-(T_{x} \\log(t))^{n/k}/(T_s)]]$',fontsize=14)\n",
    "plt.ylabel(r'$\\log[f(t)]$',fontsize=14)\n",
    "# plt.tight_layout()\n",
    "\n",
    "\n",
    "kk=0\n",
    "kn=2\n",
    "k = k_range[kk]\n",
    "n = n_range[kn]\n",
    "X = np.log10(trange**(-2)*np.exp(-(Tx*np.log(trange))**(n/k)/(Ts)))\n",
    "y = np.log10(integrals[kk,kn,kTs])\n",
    "\n",
    "\n",
    "reg = LinearRegression().fit(X.reshape(-1,1), y)\n",
    "R2_without = reg.score(X.reshape(-1,1), y)\n",
    "\n",
    "print(R2_without)\n",
    "m=reg.coef_[0]\n",
    "b = reg.intercept_\n",
    "print(reg.coef_,reg.intercept_)\n",
    "\n",
    "\n",
    "plt.subplot(1,3,3)\n",
    "plt.title('k = {}, n = {}'.format(k,n))\n",
    "xrange = np.linspace(X.min()*1.05,X.max()*.5,10)\n",
    "plt.plot(xrange,m*xrange+b,c='k',ls='--',lw=2)\n",
    "plt.scatter(X,y,s=50)\n",
    "# plt.axis('equal')\n",
    "# plt.xlim(X.min(),X.max())\n",
    "# plt.ylim(Y.)\n",
    "plt.xticks(fontsize=12)\n",
    "plt.yticks(fontsize=12)\n",
    "plt.xlabel(r'$\\log[t^{-2} \\exp[-(T_{x} \\log(t))^{n/k}/(T_s)]]$',fontsize=14)\n",
    "plt.ylabel(r'$\\log[f(t)]$',fontsize=14)\n",
    "plt.tight_layout()\n",
    "# plt.savefig('asymptotic_log.pdf')\n",
    "plt.show()"
   ]
  }
 ],
 "metadata": {
  "kernelspec": {
   "display_name": "Python 3",
   "language": "python",
   "name": "python3"
  },
  "language_info": {
   "codemirror_mode": {
    "name": "ipython",
    "version": 3
   },
   "file_extension": ".py",
   "mimetype": "text/x-python",
   "name": "python",
   "nbconvert_exporter": "python",
   "pygments_lexer": "ipython3",
   "version": "3.8.5"
  }
 },
 "nbformat": 4,
 "nbformat_minor": 4
}
