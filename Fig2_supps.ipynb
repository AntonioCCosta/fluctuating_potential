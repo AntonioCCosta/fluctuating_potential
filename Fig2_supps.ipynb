{
 "cells": [
  {
   "cell_type": "code",
   "execution_count": 1,
   "metadata": {},
   "outputs": [],
   "source": [
    "import numpy as np\n",
    "import numpy.ma as ma\n",
    "import argparse\n",
    "import sys\n",
    "sys.path.append(\"./utils/\")\n",
    "import operator_calculations as op_calc\n",
    "import delay_embedding as embed\n",
    "import stats\n",
    "from scipy.interpolate import UnivariateSpline\n",
    "from multiprocessing import Pool,cpu_count\n",
    "import pickle\n",
    "import h5py\n",
    "import matplotlib.pyplot as plt\n",
    "from scipy.signal import savgol_filter\n",
    "from scipy.io import loadmat"
   ]
  },
  {
   "cell_type": "code",
   "execution_count": 2,
   "metadata": {},
   "outputs": [],
   "source": [
    "frameRate=16.\n",
    "data_dt=1/frameRate\n",
    "\n",
    "ctraj_path = '../data/Foraging_N2/ctrajs_1000_clusters/'\n",
    "f = h5py.File(ctraj_path+'/c_traj_w.h5','r')\n",
    "mD = f['MetaData']\n",
    "n_clusters = np.array(mD['n_clusters'],dtype=int)[0]\n",
    "delay = np.array(mD['delay'],dtype=int)[0]\n",
    "ctraj_w = ma.array(f['ctraj_w'])\n",
    "ctraj_w_mask = ma.array(f['ctraj_w_mask'])\n",
    "f.close()\n",
    "ctraj_w[ctraj_w_mask==1]=ma.masked"
   ]
  },
  {
   "cell_type": "markdown",
   "metadata": {},
   "source": [
    "# Reconstruction error"
   ]
  },
  {
   "cell_type": "code",
   "execution_count": 3,
   "metadata": {},
   "outputs": [],
   "source": [
    "n_sims=1000\n",
    "delta_hs = []\n",
    "for k in range(n_sims):\n",
    "    f = h5py.File('../data/Foraging_N2/optimize_h/delta_h_{}.h5'.format(k),'r')        \n",
    "    delta_h = np.array(f['delta_h'])\n",
    "    h_range = np.array(f['h_range'])\n",
    "    dx = np.array(f['dx'])[0]\n",
    "    stride = np.array(f['stride'])[0]\n",
    "    f.close()\n",
    "    delta_hs.append(delta_h)"
   ]
  },
  {
   "cell_type": "code",
   "execution_count": 4,
   "metadata": {},
   "outputs": [],
   "source": [
    "mean_D1 = ma.compress_rows(ma.diff(ma.masked_invalid(np.array(delta_hs)[:,:,0]),axis=1)).mean(axis=0)\n",
    "cil_D1 = np.percentile(ma.compress_rows(ma.diff(ma.masked_invalid(np.array(delta_hs)[:,:,0]),axis=1)),2.5,axis=0)\n",
    "ciu_D1 = np.percentile(ma.compress_rows(ma.diff(ma.masked_invalid(np.array(delta_hs)[:,:,0]),axis=1)),97.5,axis=0)"
   ]
  },
  {
   "cell_type": "code",
   "execution_count": 5,
   "metadata": {},
   "outputs": [],
   "source": [
    "mean_D1,cil_D1,ciu_D1 = stats.bootstrap(np.diff(ma.masked_invalid(np.array(delta_hs)[:,:,0]),axis=1),n_times=1000)\n",
    "mean_D2,cil_D2,ciu_D2 = stats.bootstrap(np.diff(ma.masked_invalid(np.array(delta_hs)[:,:,1]),axis=1),n_times=1000)"
   ]
  },
  {
   "cell_type": "code",
   "execution_count": 6,
   "metadata": {},
   "outputs": [
    {
     "data": {
      "image/png": "[encoded data removed]",
      "text/plain": [
       "<Figure size 360x360 with 1 Axes>"
      ]
     },
     "metadata": {
      "needs_background": "light"
     },
     "output_type": "display_data"
    }
   ],
   "source": [
    "plt.figure(figsize=(5,5))\n",
    "plt.errorbar(h_range[:-1],mean_D1,yerr = [mean_D1-cil_D1,ciu_D1-mean_D1],capsize=4,marker='o',c='k',label='D1')\n",
    "plt.errorbar(h_range[:-1],mean_D2,yerr = [mean_D2-cil_D2,ciu_D2-mean_D2],capsize=4,marker='o',c='gray',label='D2')\n",
    "plt.legend()\n",
    "plt.axhline(0,ls='--',c='gray',lw=3)\n",
    "plt.axvline(0.08)\n",
    "plt.xlim(0,0.4)\n",
    "plt.ylim(-.03,0.002)\n",
    "# plt.savefig('delta_hs.pdf')\n",
    "plt.show()"
   ]
  },
  {
   "cell_type": "markdown",
   "metadata": {},
   "source": [
    "# Noise correlations"
   ]
  },
  {
   "cell_type": "code",
   "execution_count": 7,
   "metadata": {},
   "outputs": [
    {
     "name": "stdout",
     "output_type": "stream",
     "text": [
      "<KeysViewHDF5 ['dx', 'eps_sim', 'h', 'stride', 'wsize']>\n"
     ]
    }
   ],
   "source": [
    "f = h5py.File('../data/Foraging_N2/noise_correlations/eps_sims.h5','r')\n",
    "print(f.keys())\n",
    "eps_sim = np.array(f['eps_sim'])\n",
    "wsize = np.array(f['wsize'])[0]\n",
    "h = np.array(f['h'])[0]\n",
    "dx = np.array(f['dx'])[0]\n",
    "stride = np.array(f['stride'],dtype=int)[0]\n",
    "f.close()"
   ]
  },
  {
   "cell_type": "code",
   "execution_count": 8,
   "metadata": {},
   "outputs": [
    {
     "data": {
      "image/png": "[encoded data removed]",
      "text/plain": [
       "<Figure size 360x360 with 1 Axes>"
      ]
     },
     "metadata": {
      "needs_background": "light"
     },
     "output_type": "display_data"
    }
   ],
   "source": [
    "lags = np.arange(0,100,stride)\n",
    "Cs=[]\n",
    "for eps in eps_sim:\n",
    "    Cs.append(stats.acf(eps,lags))\n",
    "mean = np.mean(Cs,axis=0)\n",
    "cil = np.percentile(Cs,2.5,axis=0)\n",
    "ciu = np.percentile(Cs,97.5,axis=0)\n",
    "\n",
    "plt.figure(figsize=(5,5))\n",
    "plt.errorbar(lags*data_dt,mean,yerr = [mean-cil,ciu-mean],marker='o',capsize=4)\n",
    "plt.axhline(0,c='k',lw=3)\n",
    "plt.xticks(np.arange(0,9*stride,stride)*data_dt,np.arange(0,9))\n",
    "plt.xlabel('delay (tau star)')\n",
    "plt.ylabel('acf')\n",
    "# plt.savefig('noise_correlations.pdf')\n",
    "plt.show()"
   ]
  },
  {
   "cell_type": "code",
   "execution_count": null,
   "metadata": {},
   "outputs": [],
   "source": []
  }
 ],
 "metadata": {
  "kernelspec": {
   "display_name": "Python 3",
   "language": "python",
   "name": "python3"
  },
  "language_info": {
   "codemirror_mode": {
    "name": "ipython",
    "version": 3
   },
   "file_extension": ".py",
   "mimetype": "text/x-python",
   "name": "python",
   "nbconvert_exporter": "python",
   "pygments_lexer": "ipython3",
   "version": "3.8.5"
  }
 },
 "nbformat": 4,
 "nbformat_minor": 4
}
