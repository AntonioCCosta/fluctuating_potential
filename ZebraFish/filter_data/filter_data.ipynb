{
 "cells": [
  {
   "cell_type": "code",
   "execution_count": 1,
   "metadata": {},
   "outputs": [],
   "source": [
    "import numpy as np\n",
    "import numpy.ma as ma\n",
    "import h5py\n",
    "import sys\n",
    "import argparse\n",
    "from scipy.integrate import odeint\n",
    "import matplotlib.pyplot as plt\n",
    "import sys\n",
    "sys.path.append('/home/a/antonio-costa/BehaviorModel/utils/')\n",
    "import delay_embedding as embed\n",
    "import operator_calculations as op_calc\n",
    "import clustering_methods as cl\n",
    "import stats"
   ]
  },
  {
   "cell_type": "code",
   "execution_count": 2,
   "metadata": {},
   "outputs": [],
   "source": [
    "condition_labels = ['Light (5x5cm)','Light (1x5cm)','Looming(5x5cm)','ChasingDot coarsespeeds(5x5cm)','ChasingDot finespeeds(5x5cm)','Dark_Transitions(5x5cm)',\n",
    "                    'Phototaxis','Optomotor Response (1x5cm)','Optokinetic Response (5x5cm)','Dark (5x5cm)','3 min Light<->Dark(5x5cm)',\n",
    "                    'Prey Capture Param. (2.5x2.5cm)','Prey Capture Param. RW. (2.5x2.5cm)',\n",
    "                    'Prey Capture Rot.(2.5x2.5cm)','Prey capture Rot. RW. (2.5x2.5cm)','Light RW. (2.5x2.5cm)']\n",
    "condition_recs = np.array([[515,525],[160,172],[87,148],[43,60],[22,43],[60,87],\n",
    "                           [202,232],[148,160],[172,202],[505,515],[0,22],\n",
    "                           [232,301],[347,445],[301,316],[316,347],\n",
    "                           [445,505]])"
   ]
  },
  {
   "cell_type": "code",
   "execution_count": 3,
   "metadata": {},
   "outputs": [
    {
     "name": "stdout",
     "output_type": "stream",
     "text": [
      "<KeysViewHDF5 ['MetaData', 'cov', 'data_means', 'eigvecs', 'max_shuffs', 'pca_fish', 'seeds', 'var_exp']>\n",
      "<KeysViewHDF5 ['lengths_data']>\n"
     ]
    }
   ],
   "source": [
    "f= h5py.File('/bucket/StephensU/antonio/zebrabouts/pool_ex7_PCs.h5','r')\n",
    "print(f.keys())\n",
    "print(f['MetaData'].keys())\n",
    "cov = np.array(f['cov'])\n",
    "data_means = np.array([f['data_means']])\n",
    "eigvecs = np.array(f['eigvecs'])\n",
    "max_shuffles = np.array(f['max_shuffs'])\n",
    "pca_fish = ma.masked_invalid(np.array(f['pca_fish']))\n",
    "var_exp = np.array(f['var_exp'])\n",
    "lenghts_data = np.array([f['MetaData/lengths_data']])\n",
    "f.close()\n",
    "pca_fish[pca_fish==0]=ma.masked"
   ]
  },
  {
   "cell_type": "code",
   "execution_count": 5,
   "metadata": {},
   "outputs": [],
   "source": [
    "c0,cf  = condition_recs[4]\n",
    "print(condition_labels[4])\n",
    "#5s stimuli every 2mins\n",
    "X_sample = pca_fish[c0:cf]\n",
    "nbouts = np.array([ma.count(X_sample[kf,:,0]) for kf in range(len(X_sample))])\n",
    "sel = nbouts>7500\n",
    "X_sample = X_sample[sel]"
   ]
  },
  {
   "cell_type": "code",
   "execution_count": 17,
   "metadata": {},
   "outputs": [
    {
     "data": {
      "text/plain": [
       "(11, 15066, 50)"
      ]
     },
     "execution_count": 17,
     "metadata": {},
     "output_type": "execute_result"
    }
   ],
   "source": [
    "X_sample.shape"
   ]
  },
  {
   "cell_type": "code",
   "execution_count": null,
   "metadata": {},
   "outputs": [],
   "source": []
  },
  {
   "cell_type": "code",
   "execution_count": 15,
   "metadata": {},
   "outputs": [],
   "source": [
    "f = h5py.File('/flash/StephensU/antonio/zebrafish_data.h5','w')\n",
    "cov_ = f.create_dataset('cov',cov.shape)\n",
    "cov_[...]=cov\n",
    "dmeans_ = f.create_dataset('data_means',data_means.shape)\n",
    "dmeans_[...]=data_means\n",
    "eigvecs_ = f.create_dataset('eigvecs',eigvecs.shape)\n",
    "eigvecs_[...] = eigvecs\n",
    "max_shuffs_ = f.create_dataset('max_shuffs',max_shuffles.shape)\n",
    "max_shuffs_[...] = max_shuffles\n",
    "varexp_ = f.create_dataset('var_exp',var_exp.shape)\n",
    "varexp_[...] = var_exp\n",
    "pca_fish_ = f.create_dataset('pca_fish',X_sample.shape)\n",
    "pca_fish_[...] = X_sample\n",
    "f.close()"
   ]
  },
  {
   "cell_type": "code",
   "execution_count": null,
   "metadata": {},
   "outputs": [],
   "source": []
  }
 ],
 "metadata": {
  "kernelspec": {
   "display_name": "Python 3",
   "language": "python",
   "name": "python3"
  },
  "language_info": {
   "codemirror_mode": {
    "name": "ipython",
    "version": 3
   },
   "file_extension": ".py",
   "mimetype": "text/x-python",
   "name": "python",
   "nbconvert_exporter": "python",
   "pygments_lexer": "ipython3",
   "version": "3.7.3"
  }
 },
 "nbformat": 4,
 "nbformat_minor": 4
}
